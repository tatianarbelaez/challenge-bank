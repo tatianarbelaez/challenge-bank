{
 "cells": [
  {
   "cell_type": "markdown",
   "id": "b5c93e04",
   "metadata": {},
   "source": [
    "# Análisis del profilling"
   ]
  },
  {
   "cell_type": "markdown",
   "id": "41a8259a",
   "metadata": {},
   "source": [
    "Con el profilling observamos que no todos los json tienen el mismo número de variables y los que sí tienen el mismo número de variables no necesariamente tienen las mismas caracteristicas, por lo que mientras en un json encontramos 62 variables de las cuales 13 son numéricas y 40 categóricas, en otro de las 62 variables 12 son numéricas y 41 son categóricas. El porcentaje de celdas faltantes es en promedio 40%.\n"
   ]
  },
  {
   "cell_type": "markdown",
   "id": "f7a04ec7",
   "metadata": {},
   "source": [
    "Ahora, las descripciones de algunas de las variables serían las siguientes:\n",
    "\n",
    "id--> Identificador único\n",
    "\n",
    "url--> Link para ver el episodio\n",
    "\n",
    "name--> nombre de la serie\n",
    "\n",
    "season--> # temporada de la serie\n",
    "\n",
    "number--> # del episodio\n",
    "\n",
    "runtime--> tiempo que demora en ejecutar el episodio\n",
    "\n",
    "airtime--> tiempo que han pasado viendo ese episodio\n",
    "\n",
    "airstamp--> A que hora fue visto el episodio\n",
    "\n",
    "embedded.show.type--> variable que indica que tipo de serie es (documental, animación, reality)\n",
    "\n",
    "embedded.show.language--> indica en que lenguaje está el episodio \n",
    "\n",
    "embedded.show.genres--> indica el género de la serie\n",
    "\n",
    "embedded.show.status--> nos dice si la serie, está en emisión, ya fue completada o está por determinar. \n",
    "\n",
    "embedded.show.premiered--> cuando fue lanzada la serie\n",
    "\n",
    "embedded.show.ended--> cuando terminó la serie\n",
    "\n",
    "embedded.show.scheduleDays--> Qué días se suben los episodios\n",
    "\n",
    "embedded.show.Rating.average--> Rating \n"
   ]
  },
  {
   "cell_type": "markdown",
   "id": "3053bd22",
   "metadata": {},
   "source": [
    "Se observan las matrices de correlacion de 3 días de diciembre de 2020\n",
    ": 1, 15 y 31 con lo cual se encuentran  las siguientes relaciones entre variables.\n",
    "\n",
    "#### 1 de diciembre de 2020:\n",
    "Existe una relación negativa entre la temporada y el promedio de rating, osea entre más temporadas tenga la serie, tiene un menor rating, así mismo, hay una relación positiva entre el número de temporadas y el número de episodios, lo que tiene sentido, ya que más temporadas significa un mayor número de episodios. \n",
    "\n",
    "#### 15 de diciembre de 2020:\n",
    "\n",
    "#### 31 de diciembre de 2020:\n"
   ]
  },
  {
   "cell_type": "code",
   "execution_count": null,
   "id": "b1b54b3d",
   "metadata": {},
   "outputs": [],
   "source": []
  },
  {
   "cell_type": "code",
   "execution_count": null,
   "id": "258b4e26",
   "metadata": {},
   "outputs": [],
   "source": []
  },
  {
   "cell_type": "code",
   "execution_count": null,
   "id": "5c87e53e",
   "metadata": {},
   "outputs": [],
   "source": []
  },
  {
   "cell_type": "markdown",
   "id": "182451bb",
   "metadata": {},
   "source": [
    "# Limpieza de datos"
   ]
  },
  {
   "cell_type": "code",
   "execution_count": null,
   "id": "c60f14c6",
   "metadata": {},
   "outputs": [],
   "source": []
  }
 ],
 "metadata": {
  "kernelspec": {
   "display_name": "Python 3 (ipykernel)",
   "language": "python",
   "name": "python3"
  },
  "language_info": {
   "codemirror_mode": {
    "name": "ipython",
    "version": 3
   },
   "file_extension": ".py",
   "mimetype": "text/x-python",
   "name": "python",
   "nbconvert_exporter": "python",
   "pygments_lexer": "ipython3",
   "version": "3.9.7"
  }
 },
 "nbformat": 4,
 "nbformat_minor": 5
}
